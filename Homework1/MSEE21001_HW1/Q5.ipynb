{
 "cells": [
  {
   "cell_type": "markdown",
   "metadata": {},
   "source": [
    "Student debt Linear regression problem solution"
   ]
  },
  {
   "cell_type": "code",
   "execution_count": 1,
   "metadata": {},
   "outputs": [],
   "source": [
    "#importing the modules\n",
    "\n",
    "import csv\n",
    "import matplotlib.pyplot as plt\n",
    "import numpy as np"
   ]
  },
  {
   "cell_type": "markdown",
   "metadata": {},
   "source": [
    "Loading and preprocessing the data"
   ]
  },
  {
   "cell_type": "code",
   "execution_count": 2,
   "metadata": {},
   "outputs": [],
   "source": [
    "#reading csv file\n",
    "\n",
    "file = open('student_debt.csv')\n",
    "csvreader = csv.reader(file)\n",
    "years = []\n",
    "debt = []\n",
    "\n",
    "#variable to be optimized\n",
    "theta = np.zeros((2, 1))\n",
    "\n",
    "for row in csvreader:\n",
    "    years.append(row[0])\n",
    "    debt.append(row[1])\n",
    "file.close()\n",
    "\n",
    "#converting list of strings to numpy float array\n",
    "X = np.asfarray(years)\n",
    "#print(\"X.size \",X.size)\n",
    "X = np.asfarray(years).reshape([X.size,1])\n",
    "#print(\"X.sizeNp \",X.shape)\n",
    "#stack ones to X\n",
    "X = np.hstack((np.ones((X.size,1)), X))\n",
    "#print(X)\n",
    "\n",
    "Y = np.asfarray(debt).reshape([X.shape[0],1])"
   ]
  },
  {
   "cell_type": "markdown",
   "metadata": {},
   "source": [
    "Optimization function"
   ]
  },
  {
   "cell_type": "code",
   "execution_count": 3,
   "metadata": {},
   "outputs": [
    {
     "name": "stdout",
     "output_type": "stream",
     "text": [
      "optimized variables =  [[-1.60729045e+02]\n",
      " [ 8.03244175e-02]]\n"
     ]
    }
   ],
   "source": [
    "\n",
    "#########     equation for variable optimization\n",
    "#########     x_hat = ((A'A)^-1)A'y\n",
    "#########     here according to our variables\n",
    "#########     theta = ((X'X)^-1)X'Y  this is implemented below\n",
    "\n",
    "theta=np.dot(np.linalg.inv(np.dot(X.T,X)),np.dot(X.T,Y))\n",
    "print(\"optimized variables = \",theta)\n",
    "\n",
    "#function value at input of given X\n",
    "# y = c + mx\n",
    "fn=theta[0] + theta[1]*X[:,1]\n",
    "#print(\"fn=\",fn)\n"
   ]
  },
  {
   "cell_type": "markdown",
   "metadata": {},
   "source": [
    "Plotting"
   ]
  },
  {
   "cell_type": "code",
   "execution_count": 4,
   "metadata": {},
   "outputs": [
    {
     "data": {
      "image/png": "[encoded data removed]",
      "text/plain": [
       "<Figure size 432x288 with 1 Axes>"
      ]
     },
     "metadata": {
      "needs_background": "light"
     },
     "output_type": "display_data"
    }
   ],
   "source": [
    "#################   Plotting   ##################\n",
    "plt.scatter(X[:,1], Y)\n",
    "plt.plot(X[:,1],fn,'r')\n",
    "plt.xlabel('Years')\n",
    "plt.ylabel('Debt')\n",
    "plt.legend([\"Observations\", \"Linear regression model\"], loc =\"lower right\")\n",
    "plt.show()"
   ]
  },
  {
   "cell_type": "markdown",
   "metadata": {},
   "source": [
    "Predictions of the model"
   ]
  },
  {
   "cell_type": "code",
   "execution_count": 5,
   "metadata": {},
   "outputs": [
    {
     "name": "stdout",
     "output_type": "stream",
     "text": [
      "debt at 2020 =  [1.52627804]\n",
      "debt at 2041 =  [3.21309081]\n"
     ]
    }
   ],
   "source": [
    "#########################################################################\n",
    "############           Question No 5 Part (b)               #############\n",
    "#########################################################################\n",
    "\n",
    "debt_at2020 = theta[0] + theta[1]*2020\n",
    "print(\"debt at 2020 = \",debt_at2020)\n",
    "\n",
    "# I checked online the debt on year 2020 and it was 1.54 Trillion which\n",
    "# is close to what our model predicted\n",
    "\n",
    "#########################################################################\n",
    "############           Question No 5 Part (c)               #############\n",
    "#########################################################################\n",
    "\n",
    "debt_at2041 = theta[0] + theta[1]*2041\n",
    "print(\"debt at 2041 = \",debt_at2041)\n",
    "\n",
    "## the model is giving pretty accurate results  :)"
   ]
  }
 ],
 "metadata": {
  "interpreter": {
   "hash": "ee5cc6fef2d70a7e71ee3826687cbd150f18158e0b1eef11d4f4f92bb920e304"
  },
  "kernelspec": {
   "display_name": "Python 3.9.2 64-bit",
   "language": "python",
   "name": "python3"
  },
  "language_info": {
   "codemirror_mode": {
    "name": "ipython",
    "version": 3
   },
   "file_extension": ".py",
   "mimetype": "text/x-python",
   "name": "python",
   "nbconvert_exporter": "python",
   "pygments_lexer": "ipython3",
   "version": "3.9.2"
  },
  "orig_nbformat": 4
 },
 "nbformat": 4,
 "nbformat_minor": 2
}
