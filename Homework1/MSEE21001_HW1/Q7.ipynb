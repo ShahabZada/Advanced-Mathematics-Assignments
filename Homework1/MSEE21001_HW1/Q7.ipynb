{
 "cells": [
  {
   "cell_type": "markdown",
   "metadata": {},
   "source": [
    "Asteroid data fitting problem solution"
   ]
  },
  {
   "cell_type": "code",
   "execution_count": 1,
   "metadata": {},
   "outputs": [],
   "source": [
    "#importing modules\n",
    "import csv\n",
    "import matplotlib.pyplot as plt\n",
    "import numpy as np\n",
    "from math import pi"
   ]
  },
  {
   "cell_type": "markdown",
   "metadata": {},
   "source": [
    "Reading the data"
   ]
  },
  {
   "cell_type": "code",
   "execution_count": 2,
   "metadata": {},
   "outputs": [],
   "source": [
    "#reading csv file\n",
    "\n",
    "file = open('asteroid_data.csv')\n",
    "csvreader = csv.reader(file)\n",
    "x_coords = []\n",
    "y_coords = []\n",
    "\n",
    "#variables to be optimized for ellipse of given shape\n",
    "vx,vy = 0,0\n",
    "\n",
    "for row in csvreader:\n",
    "    x_coords.append(row[0])\n",
    "    y_coords.append(row[1])\n",
    "file.close()\n",
    "\n",
    "#converting list of strings to numpy float array\n",
    "X = np.asfarray(x_coords)\n",
    "#print(\"X.size \",X.size)\n",
    "X = np.asfarray(x_coords).reshape([X.size,1])\n",
    "#print(\"X.sizeNp \",X.shape)\n",
    "\n",
    "Y = np.asfarray(y_coords).reshape([X.shape[0],1])"
   ]
  },
  {
   "cell_type": "markdown",
   "metadata": {},
   "source": [
    "The ellipse equation is\n",
    "$$\\frac{x_i^2}{v_x^2}+\\frac{y_i^2}{v_y^2}=1$$ \n",
    "We need the S to be close to zero in the below equation\n",
    "$$S=\\sum_{i = 1}^{n}{(\\frac{x_i^2}{v_x^2}+\\frac{y_i^2}{v_y^2}-1)^2}$$\n",
    "Taking partial derivative w.r.t $v_x$ and $v_y$ and equate both to 0\n",
    "\n",
    "$$\\frac{\\partial S}{\\partial v_x} = \\frac{\\partial}{\\partial v_x} {\\sum_{i = 1}^{n}{(\\frac{x_i^2}{v_x^2}+\\frac{y_i^2}{v_y^2}-1)^2}} = 0$$\n",
    "\n",
    "$$\\implies       \\sum_{i = 1}^{n}\\frac{x_i^4}{v_x^2}+\\sum_{i = 1}^{n}\\frac{x_i^2.y_i^2}{v_y^2} =  \\sum_{i = 1}^{n}x_i^2$$\n",
    "\n",
    "And\n",
    "\n",
    "$$\\frac{\\partial S}{\\partial v_y} = \\frac{\\partial}{\\partial v_y} {\\sum_{i = 1}^{n}{(\\frac{x_i^2}{v_x^2}+\\frac{y_i^2}{v_y^2}-1)^2}} = 0 $$\n",
    "\n",
    "$$\\implies       \\sum_{i = 1}^{n}\\frac{x_i^2.y_i^2}{v_x^2}+\\sum_{i = 1}^{n}\\frac{y_i^4}{v_y^2} =  \\sum_{i = 1}^{n}y_i^2$$\n",
    "\n",
    "These two equations can be written in martix form as\n",
    "\n",
    "$$\\begin{bmatrix} \\sum_{i = 1}^{n}x_i^4 & \\sum_{i = 1}^{n}x_i^2y_i^2  \\\\ \\sum_{i = 1}^{n}x_i^2y_i^2 & \\sum_{i = 1}^{n}y_i^4 \\end{bmatrix}\n",
    "\\begin{bmatrix} \\frac{1}{v_x^2}   \\\\ \\frac{1}{v_y^2}\\end{bmatrix} = \n",
    "\\begin{bmatrix} \\sum_{i = 1}^{n}x_i^2   \\\\  \\sum_{i = 1}^{n}y_i^2 \\end{bmatrix}$$\n",
    "\n",
    "Which is in the form $$ Ax=b $$\n",
    "\n",
    "x can be found as  $$ x=A^{-1} b $$"
   ]
  },
  {
   "cell_type": "code",
   "execution_count": 3,
   "metadata": {},
   "outputs": [
    {
     "name": "stdout",
     "output_type": "stream",
     "text": [
      "parms =  [0.03210851 0.88629436]\n",
      "vx =  5.58071574925297     vy =  1.062211522511347\n"
     ]
    }
   ],
   "source": [
    "x4=np.sum(np.power(X,4))\n",
    "x2=np.sum(np.power(X,2))\n",
    "x2y2=np.sum(np.multiply(np.power(X,2),np.power(Y,2)))\n",
    "y4=np.sum(np.power(Y,4))\n",
    "y2=np.sum(np.power(Y,2))\n",
    "\n",
    "A=np.array([[x4, x2y2],\n",
    "                [x2y2, y4]])\n",
    "z=np.array([x2, y2])\n",
    "\n",
    "\n",
    "parms=np.dot(np.linalg.inv(A),z.T)\n",
    "print(\"parms = \",parms)\n",
    "vx=1/(np.sqrt(parms[0]))\n",
    "vy=1/(np.sqrt(parms[1]))\n",
    "print(\"vx = \",vx, \"    vy = \", vy )"
   ]
  },
  {
   "cell_type": "markdown",
   "metadata": {},
   "source": [
    "Plotting"
   ]
  },
  {
   "cell_type": "code",
   "execution_count": 4,
   "metadata": {},
   "outputs": [
    {
     "data": {
      "image/png": "[encoded data removed]",
      "text/plain": [
       "<Figure size 432x288 with 1 Axes>"
      ]
     },
     "metadata": {
      "needs_background": "light"
     },
     "output_type": "display_data"
    }
   ],
   "source": [
    "plt.scatter(X, Y)\n",
    "plt.xlabel('x_coords')\n",
    "plt.ylabel('y_coords')\n",
    "\n",
    "t = np.linspace(0, 2*pi, 100)\n",
    "#using parametric equation of ellipse to plot ellipse\n",
    "plt.plot( vx*np.cos(t) , vy*np.sin(t),'r' )\n",
    "plt.grid(color='lightgray',linestyle='--')\n",
    "plt.show()"
   ]
  }
 ],
 "metadata": {
  "interpreter": {
   "hash": "ee5cc6fef2d70a7e71ee3826687cbd150f18158e0b1eef11d4f4f92bb920e304"
  },
  "kernelspec": {
   "display_name": "Python 3.9.2 64-bit",
   "language": "python",
   "name": "python3"
  },
  "language_info": {
   "codemirror_mode": {
    "name": "ipython",
    "version": 3
   },
   "file_extension": ".py",
   "mimetype": "text/x-python",
   "name": "python",
   "nbconvert_exporter": "python",
   "pygments_lexer": "ipython3",
   "version": "3.9.2"
  },
  "orig_nbformat": 4
 },
 "nbformat": 4,
 "nbformat_minor": 2
}
