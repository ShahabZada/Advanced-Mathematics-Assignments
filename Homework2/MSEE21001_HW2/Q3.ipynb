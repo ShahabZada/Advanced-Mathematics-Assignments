{
 "cells": [
  {
   "cell_type": "markdown",
   "metadata": {},
   "source": [
    "Question No 3 part C solution"
   ]
  },
  {
   "cell_type": "code",
   "execution_count": 2,
   "metadata": {},
   "outputs": [],
   "source": [
    "import csv\n",
    "import matplotlib.pyplot as plt\n",
    "import numpy as np\n",
    "from numpy.linalg import multi_dot\n",
    "from math import pi\n"
   ]
  },
  {
   "cell_type": "code",
   "execution_count": 3,
   "metadata": {},
   "outputs": [],
   "source": [
    "## Reading the samptimes data\n",
    "file = open('samptimes.csv')\n",
    "samptimes = csv.reader(file)\n",
    "\n",
    "\n",
    "stimes=[]\n",
    "for row in samptimes:\n",
    "    stimes.append(row[0])\n",
    "\n",
    "file.close()\n",
    "\n",
    "## Reading the y data\n",
    "file = open('y.csv')\n",
    "y = csv.reader(file)\n",
    "\n",
    "Ydata=[]\n",
    "\n",
    "for row in y:\n",
    "    Ydata.append(row[0])\n",
    "file.close()"
   ]
  },
  {
   "cell_type": "code",
   "execution_count": 4,
   "metadata": {},
   "outputs": [
    {
     "name": "stdout",
     "output_type": "stream",
     "text": [
      "X.sizeNp  (259, 1)\n",
      "Yshape =  (259, 1)\n"
     ]
    }
   ],
   "source": [
    "## Converting the data to numpy array\n",
    "stimes = np.asfarray(stimes)\n",
    "X = np.asfarray(stimes).reshape([stimes.size,1])\n",
    "print(\"X.sizeNp \",X.shape)\n",
    "Y = np.asfarray(Ydata).reshape([X.shape[0],1])\n",
    "print(\"Yshape = \",Y.shape)\n"
   ]
  },
  {
   "cell_type": "markdown",
   "metadata": {},
   "source": [
    "Function for Producing the matrix A (vectorized implementation) without for loops. More faster :)"
   ]
  },
  {
   "cell_type": "code",
   "execution_count": 5,
   "metadata": {},
   "outputs": [],
   "source": [
    "def matrix_producer(time_samples, N):\n",
    "\tB=np.int64((N-1)/2)\n",
    "\tB_mat= np.linspace(-B, B, 2*B+1).reshape([2*B+1,1]).T\n",
    "\tA = np.exp(np.dot(time_samples,B_mat)*2*pi*1j)\n",
    "\treturn A\n"
   ]
  },
  {
   "cell_type": "markdown",
   "metadata": {},
   "source": [
    "Function for Producing matrix W"
   ]
  },
  {
   "cell_type": "code",
   "execution_count": 16,
   "metadata": {},
   "outputs": [],
   "source": [
    "def W_matrix(W_shape):\n",
    "    w_line=np.resize([1,100], W_shape)   # create linear array alternating 100 and 1\n",
    "    W = np.diag(w_line)    # make diagnal array\n",
    "    \n",
    "    print(W.shape)\n",
    "    print(W)\n",
    "    return W"
   ]
  },
  {
   "cell_type": "markdown",
   "metadata": {},
   "source": [
    "The fourier_coeff equation derivation is well explained in file Q3.pdf"
   ]
  },
  {
   "cell_type": "code",
   "execution_count": 17,
   "metadata": {},
   "outputs": [
    {
     "name": "stdout",
     "output_type": "stream",
     "text": [
      "(259, 259)\n",
      "[[  1   0   0 ...   0   0   0]\n",
      " [  0 100   0 ...   0   0   0]\n",
      " [  0   0   1 ...   0   0   0]\n",
      " ...\n",
      " [  0   0   0 ...   1   0   0]\n",
      " [  0   0   0 ...   0 100   0]\n",
      " [  0   0   0 ...   0   0   1]]\n",
      "(21, 1)\n"
     ]
    }
   ],
   "source": [
    "A = matrix_producer(X,21)    #here X is the samp_times vector\n",
    "W=W_matrix(259)\n",
    "                    \n",
    "fourier_coeff=np.dot(np.linalg.inv(np.dot(np.dot(A.T,W),A)),np.dot(np.dot(A.T,W),Y))\n",
    "print(fourier_coeff.shape)"
   ]
  },
  {
   "cell_type": "code",
   "execution_count": 18,
   "metadata": {},
   "outputs": [],
   "source": [
    "#Prediction y=Aa  (a= alpha i.e. fourier coefficients)\n",
    "y_pred= np.dot(A,fourier_coeff)\n"
   ]
  },
  {
   "cell_type": "code",
   "execution_count": 19,
   "metadata": {},
   "outputs": [
    {
     "name": "stderr",
     "output_type": "stream",
     "text": [
      "/home/shahabkhan/.local/lib/python3.8/site-packages/matplotlib/cbook/__init__.py:1298: ComplexWarning: Casting complex values to real discards the imaginary part\n",
      "  return np.asarray(x, float)\n"
     ]
    },
    {
     "data": {
      "image/png": "[encoded data removed]",
      "text/plain": [
       "<Figure size 432x288 with 1 Axes>"
      ]
     },
     "metadata": {
      "needs_background": "light"
     },
     "output_type": "display_data"
    }
   ],
   "source": [
    "y_pred= (y_pred)\n",
    "plt.plot(X,y_pred, color = 'r')\n",
    "plt.scatter(X,Y)\n",
    "plt.show()"
   ]
  },
  {
   "cell_type": "code",
   "execution_count": null,
   "metadata": {},
   "outputs": [],
   "source": []
  }
 ],
 "metadata": {
  "interpreter": {
   "hash": "31f2aee4e71d21fbe5cf8b01ff0e069b9275f58929596ceb00d14d90e3e16cd6"
  },
  "kernelspec": {
   "display_name": "Python 3.8.10 64-bit",
   "language": "python",
   "name": "python3"
  },
  "language_info": {
   "codemirror_mode": {
    "name": "ipython",
    "version": 3
   },
   "file_extension": ".py",
   "mimetype": "text/x-python",
   "name": "python",
   "nbconvert_exporter": "python",
   "pygments_lexer": "ipython3",
   "version": "3.8.10"
  },
  "orig_nbformat": 4
 },
 "nbformat": 4,
 "nbformat_minor": 2
}
